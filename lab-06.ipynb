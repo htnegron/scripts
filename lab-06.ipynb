{
 "cells": [
  {
   "cell_type": "markdown",
   "metadata": {},
   "source": [
    "# DASC1104: Lab 06\n",
    "\n",
    "## Directions: \n",
    "Move this .ipynb to your ~/DASC1104/scripts folder (the directory connected to GitLab). Record all of your answers in this document. Each \"Python\" chunk can be run with the \"play\" button to the left of the cell--make sure your answers are functional and correct! When you are finished, save your changes and push this file to GitLab by the end of the week."
   ]
  },
  {
   "cell_type": "markdown",
   "metadata": {},
   "source": [
    "## Problem 1: \n",
    "Concatenate the two strings held in the variables, 'dna1' and 'dna2'. Store them in a new variable called 'dna3'."
   ]
  },
  {
   "cell_type": "code",
   "execution_count": 4,
   "metadata": {},
   "outputs": [],
   "source": [
    "# define and assign values to dna1 and dna2 variables\n",
    "dna1 = \"attcaggac\"\n",
    "dna2 = \"tgccagcatccgaagtttt\"\n",
    "\n",
    "# your code for concatenating two DNA sequences\n",
    "dna3 = dna1 + dna2"
   ]
  },
  {
   "cell_type": "markdown",
   "metadata": {},
   "source": [
    "## Problem 2:\n",
    "Print 'dna3'."
   ]
  },
  {
   "cell_type": "code",
   "execution_count": 5,
   "metadata": {},
   "outputs": [
    {
     "name": "stdout",
     "output_type": "stream",
     "text": [
      "attcaggactgccagcatccgaagtttt\n"
     ]
    }
   ],
   "source": [
    "# your code for printing dna3\n",
    "print(dna3)"
   ]
  },
  {
   "cell_type": "markdown",
   "metadata": {},
   "source": [
    "## Problem 3:\n",
    "Write a `print` statement to print a string that is concatenated in this order: dna1-intron-dna2. The sequences for 'dna1' and dna2 segments should be uppercase, and 'intron' should be lowercase. Your output should look like this:\n",
    "\n",
    "> ATTCAGGACtttaagtcaggaaaTGCCAGCATCCGAAGTTTT"
   ]
  },
  {
   "cell_type": "code",
   "execution_count": 11,
   "metadata": {},
   "outputs": [
    {
     "name": "stdout",
     "output_type": "stream",
     "text": [
      "ATTCAGGACtttaagtcaggaaaTGCCAGCATCCGAAGTTTT\n"
     ]
    }
   ],
   "source": [
    "# define and assign a value to the intron variable\n",
    "intron = \"tttaagtcaggaaa\"\n",
    "\n",
    "# your code to print dna1-intron-dna2\n",
    "print(dna1.upper()+intron+dna2.upper())"
   ]
  },
  {
   "cell_type": "markdown",
   "metadata": {},
   "source": [
    "## Problem 4:\n",
    "Calculate and print the length of each DNA segment. Your output should look like this:\n",
    "\n",
    "> The length of dna1 is: 9 nucleotides\n",
    "\n",
    "> The length of dna2 is: 19 nucleotides\n",
    "\n",
    "> The length of intron is: 14 nucleotides\n",
    "\n",
    "> The length of the whole gene is: 42 nucleotides"
   ]
  },
  {
   "cell_type": "code",
   "execution_count": 24,
   "metadata": {},
   "outputs": [
    {
     "name": "stdout",
     "output_type": "stream",
     "text": [
      "The length of dna1 is: 9 nucleotides\n",
      "The length of dna2 is: 19 nucleotides\n",
      "The length of intron is: 14 nucleotides\n",
      "The length of the whole gene is: 42 nucleotides\n"
     ]
    }
   ],
   "source": [
    "# your code for the print statements\n",
    "len(dna1) \n",
    "\n",
    "len(dna2)\n",
    "\n",
    "len(intron)\n",
    "\n",
    "9+19+14\n",
    "\n",
    "print('The length of dna1 is: 9 nucleotides')\n",
    "\n",
    "print('The length of dna2 is: 19 nucleotides')\n",
    "\n",
    "print('The length of intron is: 14 nucleotides')\n",
    "\n",
    "print('The length of the whole gene is: 42 nucleotides')"
   ]
  },
  {
   "cell_type": "markdown",
   "metadata": {},
   "source": [
    "## Problem 5:\n",
    "Calculate and print the combined percentage of G's and C's in dna1 and dna2 (combined). Be sure to comment your code. Your ouput should look like this:\n",
    "\n",
    "> The GC percentage is: 46.4"
   ]
  },
  {
   "cell_type": "code",
   "execution_count": 38,
   "metadata": {
    "scrolled": true
   },
   "outputs": [
    {
     "name": "stdout",
     "output_type": "stream",
     "text": [
      "The GC percentage is: 46.4\n"
     ]
    }
   ],
   "source": [
    "# (add your own comments)\n",
    "#use .count to find characters within strings\n",
    "dna1.count('g')\n",
    "#dna1 has 2 g's\n",
    "dna2.count('g')\n",
    "#dna2 has 4 g's\n",
    "dna1.count('c')\n",
    "#dna1 has 2 c's\n",
    "dna2.count('c')\n",
    "#dna2 has 5 c's\n",
    "\n",
    "#dna1 has 9 nucleotides; 2 g's and 2 c's; 4/9\n",
    "#dna2 has 19 nucleotides; 4 g's and 5 c's; 9/19\n",
    "\n",
    "4+9\n",
    "9+19\n",
    "13/28 * 100 #=46.4%\n",
    "\n",
    "print('The GC percentage is: 46.4')"
   ]
  },
  {
   "cell_type": "code",
   "execution_count": null,
   "metadata": {},
   "outputs": [],
   "source": [
    "\n"
   ]
  }
 ],
 "metadata": {
  "interpreter": {
   "hash": "916dbcbb3f70747c44a77c7bcd40155683ae19c65e1c03b4aa3499c5328201f1"
  },
  "kernelspec": {
   "display_name": "Python 3",
   "language": "python",
   "name": "python3"
  },
  "language_info": {
   "codemirror_mode": {
    "name": "ipython",
    "version": 3
   },
   "file_extension": ".py",
   "mimetype": "text/x-python",
   "name": "python",
   "nbconvert_exporter": "python",
   "pygments_lexer": "ipython3",
   "version": "3.8.8"
  }
 },
 "nbformat": 4,
 "nbformat_minor": 2
}
